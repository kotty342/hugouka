{
 "cells": [
  {
   "cell_type": "markdown",
   "metadata": {},
   "source": [
    "アルゴリズムの設計詳細\n",
    " システム全体の流れ\n",
    " \n",
    "1データの準備\n",
    "\n",
    "ストリーミングデータ（例: 動画ファイル）を一定サイズのブロックに分割。\n",
    "ブロックは$B_1,B_2,...,B_n$とする。\n",
    "\n",
    "2符号化プロセス\n",
    "\n",
    "各ブロックをランダム係数で線形結合し、符号化パケットを生成。\n",
    "符号化パケット$P_i=\\sum_{j=1}^nc_{ij}・B_j$\n",
    "ここで$c_{ij}$はランダム係数。\n",
    "\n",
    "3データ伝送\n",
    "\n",
    "符号化パケットをピア間で送信。\n",
    "ピアがパケットを受信するたびに復号可能性を判定。\n",
    "\n",
    "4復号プロセス\n",
    "\n",
    "ピアが十分な数（線形独立なパケット）を受信したら復号を実行。\n",
    "ガウス消去法などで元データ $B_1,B_2,...,B_n$を復元。"
   ]
  },
  {
   "cell_type": "markdown",
   "metadata": {},
   "source": [
    " 各プロセスの詳細設計\n",
    "(A) データの準備\n",
    "動画や音声データを一定サイズ（例: 1024バイト）のブロックに分割。\n",
    "メタデータ（例: ブロック番号や総数）を各ブロックに付加。"
   ]
  },
  {
   "cell_type": "raw",
   "metadata": {},
   "source": [
    "def split_data(data, block_size):\n",
    "    blocks = [data[i:i+block_size] for i in range(0, len(data), block_size)]\n",
    "    return blocks\n"
   ]
  },
  {
   "cell_type": "raw",
   "metadata": {},
   "source": [
    "import numpy as np\n",
    "\n",
    "def encode_blocks(blocks, num_packets):\n",
    "    n = len(blocks)\n",
    "    packets = []\n",
    "    for _ in range(num_packets):\n",
    "        coefficients = np.random.randint(0, 256, n)  # ランダム係数（例: 0〜255）\n",
    "        packet = sum(c * b for c, b in zip(coefficients, blocks))\n",
    "        packets.append((packet, coefficients))\n",
    "    return packets\n"
   ]
  },
  {
   "cell_type": "raw",
   "metadata": {},
   "source": [
    "def receive_packet(packets, new_packet, coefficients):\n",
    "    # 受信パケットを追加\n",
    "    packets.append((new_packet, coefficients))\n",
    "    # 独立性を確認\n",
    "    if is_linearly_independent(packets):\n",
    "        return True\n",
    "    else:\n",
    "        packets.pop()  # 独立でなければ捨てる\n",
    "        return False\n",
    "\n",
    "def is_linearly_independent(packets):\n",
    "    coefficients = [p[1] for p in packets]\n",
    "    matrix = np.array(coefficients)\n",
    "    rank = np.linalg.matrix_rank(matrix)\n",
    "    return rank == len(packets)\n"
   ]
  },
  {
   "cell_type": "raw",
   "metadata": {},
   "source": [
    "def decode_packets(packets):\n",
    "    coefficients = np.array([p[1] for p in packets])\n",
    "    data = np.array([p[0] for p in packets])\n",
    "    # ガウス消去法で復元\n",
    "    decoded_blocks = np.linalg.solve(coefficients, data)\n",
    "    return decoded_blocks\n"
   ]
  },
  {
   "cell_type": "code",
   "execution_count": 1,
   "metadata": {},
   "outputs": [
    {
     "name": "stdout",
     "output_type": "stream",
     "text": [
      "Node 0 received: []\n",
      "Node 1 received: [b'%\\x00\\x00\\x00\\x00\\x00\\x00\\x00\\x0e\\x00\\x00\\x00\\x00\\x00\\x00\\x00R\\x00\\x00\\x00\\x00\\x00\\x00\\x00\\x91\\x00\\x00\\x00\\x00\\x00\\x00\\x00\\xa7\\x00\\x00\\x00\\x00\\x00\\x00\\x00)\\x00\\x00\\x00\\x00\\x00\\x00\\x00n\\x00\\x00\\x00\\x00\\x00\\x00\\x00\\xce\\x00\\x00\\x00\\x00\\x00\\x00\\x00']\n",
      "Node 2 received: []\n",
      "Node 3 received: []\n",
      "Node 4 received: []\n",
      "Node 5 received: []\n",
      "Node 6 received: []\n",
      "Node 7 received: []\n",
      "Node 8 received: []\n",
      "Node 9 received: []\n"
     ]
    }
   ],
   "source": [
    "import numpy as np\n",
    "import socket\n",
    "import threading\n",
    "import time\n",
    "\n",
    "# 符号化関数\n",
    "def encode_data(blocks, redundancy=1.2):\n",
    "    n_blocks = len(blocks)\n",
    "    extra_blocks = int(n_blocks * redundancy - n_blocks)\n",
    "    coefficients = np.random.randint(0, 256, (extra_blocks, n_blocks))\n",
    "    coded_blocks = np.dot(coefficients, blocks) % 256\n",
    "    return np.vstack((blocks, coded_blocks)), coefficients\n",
    "\n",
    "# 復号化関数\n",
    "def decode_data(coded_blocks, coefficients):\n",
    "    try:\n",
    "        decoded_blocks = np.linalg.solve(coefficients, coded_blocks[:coefficients.shape[0]])\n",
    "        return np.round(decoded_blocks).astype(int)\n",
    "    except np.linalg.LinAlgError:\n",
    "        return None  # 解けない場合（パケット欠損など）\n",
    "\n",
    "# P2Pノード\n",
    "class PeerNode(threading.Thread):\n",
    "    def __init__(self, peer_id, port):\n",
    "        super().__init__()\n",
    "        self.peer_id = peer_id\n",
    "        self.port = port\n",
    "        self.data = []\n",
    "\n",
    "    def run(self):\n",
    "        with socket.socket(socket.AF_INET, socket.SOCK_STREAM) as s:\n",
    "            s.bind(('localhost', self.port))\n",
    "            s.listen()\n",
    "            while True:\n",
    "                conn, addr = s.accept()\n",
    "                with conn:\n",
    "                    data = conn.recv(1024)\n",
    "                    if data:\n",
    "                        self.data.append(data)\n",
    "\n",
    "# 実験設定\n",
    "blocks = np.random.randint(0, 256, (10, 8))  # 10ブロック×8バイトのデータ\n",
    "encoded_blocks, coeffs = encode_data(blocks)\n",
    "\n",
    "# ノードの起動\n",
    "nodes = [PeerNode(i, 5000 + i) for i in range(10)]\n",
    "for node in nodes:\n",
    "    node.start()\n",
    "\n",
    "# データ送信\n",
    "with socket.socket(socket.AF_INET, socket.SOCK_STREAM) as s:\n",
    "    s.connect(('localhost', 5001))  # ノード1に送信\n",
    "    s.sendall(encoded_blocks[0].tobytes())\n",
    "\n",
    "time.sleep(5)  # 送信完了待ち\n",
    "\n",
    "# 結果の確認\n",
    "for node in nodes:\n",
    "    print(f\"Node {node.peer_id} received: {node.data}\")\n"
   ]
  },
  {
   "cell_type": "code",
   "execution_count": 3,
   "metadata": {},
   "outputs": [],
   "source": [
    "# 符号化データの生成\n",
    "def encode_data(blocks, redundancy):\n",
    "    n = len(blocks)\n",
    "    m = int(n * redundancy)\n",
    "    G = generate_random_matrix(m, n)  # ランダム係数行列\n",
    "    encoded_blocks = np.dot(G, blocks) % 256\n",
    "    return encoded_blocks, G\n",
    "\n",
    "# データ配信\n",
    "def distribute_data(peer, encoded_blocks):\n",
    "    while not peer.has_sufficient_data():\n",
    "        next_peer = select_optimal_peer(peer)\n",
    "        peer.send_data(next_peer, encoded_blocks)\n",
    "\n",
    "# 復号化\n",
    "def decode_data(encoded_blocks, coefficients):\n",
    "    if len(encoded_blocks) >= len(coefficients):\n",
    "        decoded_blocks = np.linalg.solve(coefficients, encoded_blocks)\n",
    "        return decoded_blocks\n",
    "    else:\n",
    "        request_additional_blocks()\n",
    "        return None\n",
    "\n",
    "# メインフロー\n",
    "def main():\n",
    "    # データの準備\n",
    "    blocks = divide_data_into_blocks(data)\n",
    "    encoded_blocks, coefficients = encode_data(blocks, redundancy=1.2)\n",
    "    \n",
    "    # ピアの初期化\n",
    "    peers = initialize_peers(num_peers)\n",
    "    \n",
    "    # データ配信開始\n",
    "    for peer in peers:\n",
    "        distribute_data(peer, encoded_blocks)\n",
    "    \n",
    "    # 復号化と結果確認\n",
    "    for peer in peers:\n",
    "        decoded_data = decode_data(peer.received_blocks, peer.coefficients)\n",
    "        if decoded_data:\n",
    "            print(\"Data successfully decoded!\")\n"
   ]
  },
  {
   "cell_type": "code",
   "execution_count": null,
   "metadata": {},
   "outputs": [],
   "source": []
  }
 ],
 "metadata": {
  "kernelspec": {
   "display_name": "Python 3",
   "language": "python",
   "name": "python3"
  },
  "language_info": {
   "codemirror_mode": {
    "name": "ipython",
    "version": 3
   },
   "file_extension": ".py",
   "mimetype": "text/x-python",
   "name": "python",
   "nbconvert_exporter": "python",
   "pygments_lexer": "ipython3",
   "version": "3.8.5"
  }
 },
 "nbformat": 4,
 "nbformat_minor": 4
}
